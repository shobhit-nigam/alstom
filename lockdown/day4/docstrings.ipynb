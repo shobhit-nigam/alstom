{
 "cells": [
  {
   "cell_type": "code",
   "execution_count": 1,
   "metadata": {},
   "outputs": [],
   "source": [
    "def funcx(la, lb=22):\n",
    "    \"function to blow up the universe\"\n",
    "    #function code\n",
    "    pass"
   ]
  },
  {
   "cell_type": "code",
   "execution_count": 2,
   "metadata": {},
   "outputs": [
    {
     "name": "stdout",
     "output_type": "stream",
     "text": [
      "function to blow up the universe\n"
     ]
    }
   ],
   "source": [
    "print(funcx.__doc__)   #double underscores each side"
   ]
  },
  {
   "cell_type": "code",
   "execution_count": 3,
   "metadata": {},
   "outputs": [],
   "source": [
    "def funcx(la, lb=22):\n",
    "    \"\"\"function to blow up the universe\n",
    "    call Thanos twice\"\"\"\n",
    "    #function code\n",
    "    pass"
   ]
  },
  {
   "cell_type": "code",
   "execution_count": 4,
   "metadata": {},
   "outputs": [
    {
     "name": "stdout",
     "output_type": "stream",
     "text": [
      "function to blow up the universe\n",
      "    call Thanos twice\n"
     ]
    }
   ],
   "source": [
    "print(funcx.__doc__)"
   ]
  },
  {
   "cell_type": "code",
   "execution_count": 5,
   "metadata": {},
   "outputs": [
    {
     "name": "stdout",
     "output_type": "stream",
     "text": [
      "Help on function funcx in module __main__:\n",
      "\n",
      "funcx(la, lb=22)\n",
      "    function to blow up the universe\n",
      "    call Thanos twice\n",
      "\n"
     ]
    }
   ],
   "source": [
    "help(funcx)"
   ]
  },
  {
   "cell_type": "code",
   "execution_count": null,
   "metadata": {},
   "outputs": [],
   "source": []
  }
 ],
 "metadata": {
  "kernelspec": {
   "display_name": "Python 3",
   "language": "python",
   "name": "python3"
  },
  "language_info": {
   "codemirror_mode": {
    "name": "ipython",
    "version": 3
   },
   "file_extension": ".py",
   "mimetype": "text/x-python",
   "name": "python",
   "nbconvert_exporter": "python",
   "pygments_lexer": "ipython3",
   "version": "3.7.7"
  }
 },
 "nbformat": 4,
 "nbformat_minor": 4
}
