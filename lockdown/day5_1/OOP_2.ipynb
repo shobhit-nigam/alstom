{
 "cells": [
  {
   "cell_type": "code",
   "execution_count": 1,
   "metadata": {},
   "outputs": [],
   "source": [
    "#    dbase (number, text, etc...)"
   ]
  },
  {
   "cell_type": "code",
   "execution_count": 2,
   "metadata": {},
   "outputs": [],
   "source": [
    "#    structures in C strengthened"
   ]
  },
  {
   "cell_type": "code",
   "execution_count": 3,
   "metadata": {},
   "outputs": [],
   "source": [
    "marks = [89, 88, 100]"
   ]
  },
  {
   "cell_type": "code",
   "execution_count": 4,
   "metadata": {},
   "outputs": [],
   "source": [
    "#   bjarne stroustrup"
   ]
  },
  {
   "cell_type": "code",
   "execution_count": 5,
   "metadata": {},
   "outputs": [],
   "source": [
    "#   capsules \n",
    "#   encapsulation, C with classes"
   ]
  },
  {
   "cell_type": "code",
   "execution_count": 6,
   "metadata": {},
   "outputs": [],
   "source": [
    "#   polymorphism, inheritance\n",
    "#   C++"
   ]
  },
  {
   "cell_type": "code",
   "execution_count": 7,
   "metadata": {},
   "outputs": [],
   "source": [
    "#   abstraction"
   ]
  },
  {
   "cell_type": "code",
   "execution_count": 8,
   "metadata": {},
   "outputs": [],
   "source": [
    "class employee:\n",
    "    id = 0\n",
    "    first_name = \"john\"\n",
    "    second_name = \"doe\"\n",
    "    age = 18"
   ]
  },
  {
   "cell_type": "code",
   "execution_count": 9,
   "metadata": {},
   "outputs": [],
   "source": [
    "#    dalgona coffee\n",
    "#    "
   ]
  },
  {
   "cell_type": "code",
   "execution_count": 10,
   "metadata": {},
   "outputs": [],
   "source": [
    "obja = employee()"
   ]
  },
  {
   "cell_type": "code",
   "execution_count": 11,
   "metadata": {},
   "outputs": [],
   "source": [
    "obja.first_name = 'vinod'\n",
    "obja.second_name = 'verma'\n",
    "obja.age = 30\n",
    "obja.id = 999"
   ]
  },
  {
   "cell_type": "code",
   "execution_count": 12,
   "metadata": {},
   "outputs": [],
   "source": [
    "class employee:\n",
    "    id = 0\n",
    "    first_name = \"john\"\n",
    "    second_name = \"doe\"\n",
    "    age = 18\n",
    "    def funca():\n",
    "        print(\"hello\")\n",
    "    def get(self, fn, sn, a):\n",
    "        pass"
   ]
  },
  {
   "cell_type": "code",
   "execution_count": 16,
   "metadata": {},
   "outputs": [],
   "source": [
    "obja = employee()\n",
    "objb = employee()\n",
    "objc = employee()"
   ]
  },
  {
   "cell_type": "code",
   "execution_count": 14,
   "metadata": {},
   "outputs": [
    {
     "ename": "NameError",
     "evalue": "name 'first_name' is not defined",
     "output_type": "error",
     "traceback": [
      "\u001b[0;31m---------------------------------------------------------------------------\u001b[0m",
      "\u001b[0;31mNameError\u001b[0m                                 Traceback (most recent call last)",
      "\u001b[0;32m<ipython-input-14-1288399a246b>\u001b[0m in \u001b[0;36m<module>\u001b[0;34m\u001b[0m\n\u001b[0;32m----> 1\u001b[0;31m \u001b[0mprint\u001b[0m\u001b[0;34m(\u001b[0m\u001b[0mfirst_name\u001b[0m\u001b[0;34m)\u001b[0m\u001b[0;34m\u001b[0m\u001b[0;34m\u001b[0m\u001b[0m\n\u001b[0m",
      "\u001b[0;31mNameError\u001b[0m: name 'first_name' is not defined"
     ]
    }
   ],
   "source": [
    "print(first_name)"
   ]
  },
  {
   "cell_type": "code",
   "execution_count": 17,
   "metadata": {},
   "outputs": [
    {
     "ename": "TypeError",
     "evalue": "funca() takes 0 positional arguments but 1 was given",
     "output_type": "error",
     "traceback": [
      "\u001b[0;31m---------------------------------------------------------------------------\u001b[0m",
      "\u001b[0;31mTypeError\u001b[0m                                 Traceback (most recent call last)",
      "\u001b[0;32m<ipython-input-17-9b5943a91410>\u001b[0m in \u001b[0;36m<module>\u001b[0;34m\u001b[0m\n\u001b[0;32m----> 1\u001b[0;31m \u001b[0mobja\u001b[0m\u001b[0;34m.\u001b[0m\u001b[0mfunca\u001b[0m\u001b[0;34m(\u001b[0m\u001b[0;34m)\u001b[0m\u001b[0;34m\u001b[0m\u001b[0;34m\u001b[0m\u001b[0m\n\u001b[0m\u001b[1;32m      2\u001b[0m \u001b[0;31m#     employee.funca(obja)\u001b[0m\u001b[0;34m\u001b[0m\u001b[0;34m\u001b[0m\u001b[0;34m\u001b[0m\u001b[0m\n",
      "\u001b[0;31mTypeError\u001b[0m: funca() takes 0 positional arguments but 1 was given"
     ]
    }
   ],
   "source": [
    "obja.funca()\n",
    "#     employee.funca(obja)"
   ]
  },
  {
   "cell_type": "code",
   "execution_count": 18,
   "metadata": {},
   "outputs": [],
   "source": [
    "class employee:\n",
    "    id = 0\n",
    "    first_name = \"john\"\n",
    "    second_name = \"doe\"\n",
    "    age = 18\n",
    "    def funca(self):\n",
    "        print(\"hello\")\n",
    "    def get(self, fn, sn, a):\n",
    "        pass"
   ]
  },
  {
   "cell_type": "code",
   "execution_count": 19,
   "metadata": {},
   "outputs": [],
   "source": [
    "obja = employee()\n",
    "objb = employee()\n",
    "objc = employee()"
   ]
  },
  {
   "cell_type": "code",
   "execution_count": 20,
   "metadata": {},
   "outputs": [
    {
     "name": "stdout",
     "output_type": "stream",
     "text": [
      "hello\n"
     ]
    }
   ],
   "source": [
    "obja.funca()\n",
    "#   employee.funca(obja)"
   ]
  },
  {
   "cell_type": "code",
   "execution_count": 21,
   "metadata": {},
   "outputs": [
    {
     "name": "stdout",
     "output_type": "stream",
     "text": [
      "hello\n"
     ]
    }
   ],
   "source": [
    "objb.funca()\n",
    "#   employee.funca(objb)"
   ]
  },
  {
   "cell_type": "code",
   "execution_count": 22,
   "metadata": {},
   "outputs": [],
   "source": [
    "class employee1: \n",
    "    id = 0 \n",
    "    first_name = 'john' \n",
    "    second_name = 'doe' \n",
    "    age = 18 \n",
    "    def funca(): \n",
    "        print(\"hello\") \n",
    "    def get(self, fn,sn,a): \n",
    "        pass"
   ]
  },
  {
   "cell_type": "code",
   "execution_count": 23,
   "metadata": {},
   "outputs": [],
   "source": [
    "varx = 20\n",
    "vary = varx\n",
    "\n",
    "obja = employee1   #creates another name for class\n",
    "objb = employee1() #creates an object"
   ]
  },
  {
   "cell_type": "code",
   "execution_count": 29,
   "metadata": {},
   "outputs": [],
   "source": [
    "class employee:\n",
    "    idnum = 0\n",
    "    first_name = \"john\"\n",
    "    second_name = \"doe\"\n",
    "    age = 18\n",
    "    def funca(self):\n",
    "        print(\"hello\")\n",
    "    def get(self, fn, sn, a):\n",
    "        print(fn)\n",
    "        pass"
   ]
  },
  {
   "cell_type": "code",
   "execution_count": 30,
   "metadata": {},
   "outputs": [],
   "source": [
    "obja = employee()\n",
    "objb = employee()\n",
    "objc = employee()"
   ]
  },
  {
   "cell_type": "code",
   "execution_count": 27,
   "metadata": {},
   "outputs": [
    {
     "name": "stdout",
     "output_type": "stream",
     "text": [
      "hello\n",
      "hello\n"
     ]
    }
   ],
   "source": [
    "obja.funca()\n",
    "objb.funca()"
   ]
  },
  {
   "cell_type": "code",
   "execution_count": 31,
   "metadata": {},
   "outputs": [
    {
     "name": "stdout",
     "output_type": "stream",
     "text": [
      "vinod\n"
     ]
    }
   ],
   "source": [
    "obja.get(\"vinod\", \"verma\", 30)"
   ]
  },
  {
   "cell_type": "code",
   "execution_count": 38,
   "metadata": {},
   "outputs": [],
   "source": [
    "class employee:\n",
    "    idnum = 0\n",
    "    first_name = None\n",
    "    second_name = None\n",
    "    age = 18\n",
    "    def funca(self):\n",
    "        print(\"hello\")\n",
    "    def get(self, fn, sn, a):\n",
    "        self.first_name = fn\n",
    "        self.second_name = sn\n",
    "        self.age = a\n",
    "    def display(self):\n",
    "        print(\"welcome \", self.first_name, self.second_name)\n",
    "        print(self.age)"
   ]
  },
  {
   "cell_type": "code",
   "execution_count": 39,
   "metadata": {},
   "outputs": [],
   "source": [
    "obja = employee()\n",
    "objb = employee()\n",
    "objc = employee()"
   ]
  },
  {
   "cell_type": "code",
   "execution_count": 40,
   "metadata": {},
   "outputs": [],
   "source": [
    "obja.get(\"vinod\", \"verma\", 30)"
   ]
  },
  {
   "cell_type": "code",
   "execution_count": 41,
   "metadata": {},
   "outputs": [
    {
     "name": "stdout",
     "output_type": "stream",
     "text": [
      "verma\n"
     ]
    }
   ],
   "source": [
    "print(obja.second_name)"
   ]
  },
  {
   "cell_type": "code",
   "execution_count": 42,
   "metadata": {},
   "outputs": [
    {
     "name": "stdout",
     "output_type": "stream",
     "text": [
      "None\n"
     ]
    }
   ],
   "source": [
    "print(objc.second_name)"
   ]
  },
  {
   "cell_type": "code",
   "execution_count": 43,
   "metadata": {},
   "outputs": [],
   "source": [
    "objb.get(\"shobhit\", \"nigam\", 39)"
   ]
  },
  {
   "cell_type": "code",
   "execution_count": 44,
   "metadata": {},
   "outputs": [],
   "source": [
    "objc.get(\"amitabh\", \"bachchan\", 76)"
   ]
  },
  {
   "cell_type": "code",
   "execution_count": 45,
   "metadata": {},
   "outputs": [
    {
     "name": "stdout",
     "output_type": "stream",
     "text": [
      "welcome  shobhit nigam\n",
      "39\n"
     ]
    }
   ],
   "source": [
    "objb.display()"
   ]
  },
  {
   "cell_type": "code",
   "execution_count": 51,
   "metadata": {},
   "outputs": [],
   "source": [
    "class employee:\n",
    "    def __init__(self, fn=None, sn=None, a=18):\n",
    "        print(\"init is always called when any object is created\")\n",
    "        self.first_name = fn\n",
    "        self.second_name = sn\n",
    "        self.age = a\n",
    "        self.idnum = 0\n",
    "    def display(self):\n",
    "        print(\"welcome\", self.first_name, self.second_name)\n",
    "        print(\"your age in our records is \", self.age)"
   ]
  },
  {
   "cell_type": "code",
   "execution_count": 52,
   "metadata": {},
   "outputs": [
    {
     "name": "stdout",
     "output_type": "stream",
     "text": [
      "init is always called when any object is created\n",
      "init is always called when any object is created\n"
     ]
    }
   ],
   "source": [
    "objb = employee(\"shobhit\", \"nigam\", 39)\n",
    "obja = employee(\"vinod\", \"verma\", 30)"
   ]
  },
  {
   "cell_type": "code",
   "execution_count": 50,
   "metadata": {},
   "outputs": [],
   "source": [
    "#    python's magic functions"
   ]
  },
  {
   "cell_type": "code",
   "execution_count": 53,
   "metadata": {},
   "outputs": [
    {
     "name": "stdout",
     "output_type": "stream",
     "text": [
      "init is always called when any object is created\n"
     ]
    }
   ],
   "source": [
    "objc = employee()"
   ]
  },
  {
   "cell_type": "code",
   "execution_count": 54,
   "metadata": {},
   "outputs": [
    {
     "name": "stdout",
     "output_type": "stream",
     "text": [
      "welcome None None\n",
      "your age in our records is  18\n"
     ]
    }
   ],
   "source": [
    "objc.display()"
   ]
  },
  {
   "cell_type": "code",
   "execution_count": 68,
   "metadata": {},
   "outputs": [],
   "source": [
    "import random\n",
    "class employee:\n",
    "    def __init__(self, fn=None, sn=None, a=18, d='HR'):\n",
    "        print(\"init is always called when any object is created\")\n",
    "        self.first_name = fn\n",
    "        self.second_name = sn\n",
    "        self.age = a\n",
    "        self.dept = d\n",
    "        self.idnum = self.generate()\n",
    "    def display(self):\n",
    "        print(\"welcome\", self.first_name, self.second_name)\n",
    "        print(\"your age in our records is \", self.age)\n",
    "        print(\"your id is\", self.idnum)\n",
    "    def generate(self):\n",
    "        temp = 400000\n",
    "        if self.dept == 'ADM':\n",
    "            temp = 400000 + 23000\n",
    "        elif self.dept == 'ROQ':\n",
    "            temp = 400000 + 25000\n",
    "        else:\n",
    "            temp = 400000 + 99000\n",
    "        num = random.randrange(0, 999)\n",
    "        \n",
    "        return (temp + num)"
   ]
  },
  {
   "cell_type": "code",
   "execution_count": 69,
   "metadata": {},
   "outputs": [
    {
     "name": "stdout",
     "output_type": "stream",
     "text": [
      "init is always called when any object is created\n"
     ]
    }
   ],
   "source": [
    "obja = employee(\"shobhit\", \"nigam\", 39, \"ADM\")"
   ]
  },
  {
   "cell_type": "code",
   "execution_count": 70,
   "metadata": {},
   "outputs": [
    {
     "name": "stdout",
     "output_type": "stream",
     "text": [
      "welcome shobhit nigam\n",
      "your age in our records is  39\n",
      "your id is 423998\n"
     ]
    }
   ],
   "source": [
    "obja.display()"
   ]
  },
  {
   "cell_type": "code",
   "execution_count": 71,
   "metadata": {},
   "outputs": [
    {
     "name": "stdout",
     "output_type": "stream",
     "text": [
      "init is always called when any object is created\n"
     ]
    }
   ],
   "source": [
    "objb = employee(\"shobhit\", \"nigam\", 39, \"ADM\")"
   ]
  },
  {
   "cell_type": "code",
   "execution_count": 72,
   "metadata": {},
   "outputs": [],
   "source": [
    "class windows:\n",
    "    data1 = 20\n",
    "    _data2 = 30\n",
    "    __data3 = 40\n",
    "    __data4__ = 50\n",
    "    def display(self):\n",
    "        print(\"self.data1 =\", self.data1)\n",
    "        print(\"self._data2 =\", self._data2)\n",
    "        print(\"self.__data3 =\", self.__data3)\n",
    "        print(\"self.__data4__ =\", self.__data4__)"
   ]
  },
  {
   "cell_type": "code",
   "execution_count": 73,
   "metadata": {},
   "outputs": [],
   "source": [
    "objw = windows()"
   ]
  },
  {
   "cell_type": "code",
   "execution_count": 74,
   "metadata": {},
   "outputs": [
    {
     "name": "stdout",
     "output_type": "stream",
     "text": [
      "20\n",
      "30\n"
     ]
    },
    {
     "ename": "AttributeError",
     "evalue": "'windows' object has no attribute '__data3'",
     "output_type": "error",
     "traceback": [
      "\u001b[0;31m---------------------------------------------------------------------------\u001b[0m",
      "\u001b[0;31mAttributeError\u001b[0m                            Traceback (most recent call last)",
      "\u001b[0;32m<ipython-input-74-7662c640b140>\u001b[0m in \u001b[0;36m<module>\u001b[0;34m\u001b[0m\n\u001b[1;32m      1\u001b[0m \u001b[0mprint\u001b[0m\u001b[0;34m(\u001b[0m\u001b[0mobjw\u001b[0m\u001b[0;34m.\u001b[0m\u001b[0mdata1\u001b[0m\u001b[0;34m)\u001b[0m\u001b[0;34m\u001b[0m\u001b[0;34m\u001b[0m\u001b[0m\n\u001b[1;32m      2\u001b[0m \u001b[0mprint\u001b[0m\u001b[0;34m(\u001b[0m\u001b[0mobjw\u001b[0m\u001b[0;34m.\u001b[0m\u001b[0m_data2\u001b[0m\u001b[0;34m)\u001b[0m\u001b[0;34m\u001b[0m\u001b[0;34m\u001b[0m\u001b[0m\n\u001b[0;32m----> 3\u001b[0;31m \u001b[0mprint\u001b[0m\u001b[0;34m(\u001b[0m\u001b[0mobjw\u001b[0m\u001b[0;34m.\u001b[0m\u001b[0m__data3\u001b[0m\u001b[0;34m)\u001b[0m\u001b[0;34m\u001b[0m\u001b[0;34m\u001b[0m\u001b[0m\n\u001b[0m\u001b[1;32m      4\u001b[0m \u001b[0mprint\u001b[0m\u001b[0;34m(\u001b[0m\u001b[0mobjw\u001b[0m\u001b[0;34m.\u001b[0m\u001b[0m__data4__\u001b[0m\u001b[0;34m)\u001b[0m\u001b[0;34m\u001b[0m\u001b[0;34m\u001b[0m\u001b[0m\n",
      "\u001b[0;31mAttributeError\u001b[0m: 'windows' object has no attribute '__data3'"
     ]
    }
   ],
   "source": [
    "print(objw.data1)\n",
    "print(objw._data2)\n",
    "print(objw.__data3)\n",
    "print(objw.__data4__)"
   ]
  },
  {
   "cell_type": "code",
   "execution_count": 76,
   "metadata": {},
   "outputs": [
    {
     "name": "stdout",
     "output_type": "stream",
     "text": [
      "50\n"
     ]
    }
   ],
   "source": [
    "print(objw.__data4__)"
   ]
  },
  {
   "cell_type": "code",
   "execution_count": 77,
   "metadata": {},
   "outputs": [],
   "source": [
    "#   member starting with __ is private\n",
    "#   can not be accessed outside the class"
   ]
  },
  {
   "cell_type": "code",
   "execution_count": 79,
   "metadata": {},
   "outputs": [
    {
     "name": "stdout",
     "output_type": "stream",
     "text": [
      "self.data1 = 20\n",
      "self._data2 = 30\n",
      "self.__data3 = 40\n",
      "self.__data4__ = 50\n"
     ]
    }
   ],
   "source": [
    "objw.display()"
   ]
  },
  {
   "cell_type": "code",
   "execution_count": 80,
   "metadata": {},
   "outputs": [],
   "source": [
    "#   no keyword private, __\n",
    "#   no protected in python"
   ]
  },
  {
   "cell_type": "code",
   "execution_count": 81,
   "metadata": {},
   "outputs": [],
   "source": [
    "#   encapsulation"
   ]
  },
  {
   "cell_type": "code",
   "execution_count": 87,
   "metadata": {},
   "outputs": [],
   "source": [
    "class unix:\n",
    "    def cmd(self):\n",
    "        print(\"great command line\")\n",
    "    def opensource(self):\n",
    "        print(\"source code available\")"
   ]
  },
  {
   "cell_type": "code",
   "execution_count": 88,
   "metadata": {},
   "outputs": [],
   "source": [
    "class linux(unix):\n",
    "    def free(self):\n",
    "        print(\"free of cost\")"
   ]
  },
  {
   "cell_type": "code",
   "execution_count": 89,
   "metadata": {},
   "outputs": [],
   "source": [
    "obju = unix()\n",
    "objl = linux()"
   ]
  },
  {
   "cell_type": "code",
   "execution_count": 90,
   "metadata": {},
   "outputs": [
    {
     "name": "stdout",
     "output_type": "stream",
     "text": [
      "source code available\n"
     ]
    }
   ],
   "source": [
    "obju.opensource()"
   ]
  },
  {
   "cell_type": "code",
   "execution_count": 86,
   "metadata": {},
   "outputs": [],
   "source": [
    "#   frequent mistake, self"
   ]
  },
  {
   "cell_type": "code",
   "execution_count": 91,
   "metadata": {},
   "outputs": [
    {
     "name": "stdout",
     "output_type": "stream",
     "text": [
      "free of cost\n"
     ]
    }
   ],
   "source": [
    "objl.free()"
   ]
  },
  {
   "cell_type": "code",
   "execution_count": 92,
   "metadata": {},
   "outputs": [
    {
     "name": "stdout",
     "output_type": "stream",
     "text": [
      "source code available\n"
     ]
    }
   ],
   "source": [
    "objl.opensource()"
   ]
  },
  {
   "cell_type": "code",
   "execution_count": 94,
   "metadata": {},
   "outputs": [],
   "source": [
    "class unix:\n",
    "    def cmd(self):\n",
    "        print(\"great command line\")\n",
    "    def opensource(self):\n",
    "        print(\"source code available\")\n",
    "        \n",
    "class linux(unix):\n",
    "    def free(self):\n",
    "        print(\"free of cost\")\n",
    "    def opensource(self):\n",
    "        print(\"source code modifiable, create your own linux\")"
   ]
  },
  {
   "cell_type": "code",
   "execution_count": 95,
   "metadata": {},
   "outputs": [],
   "source": [
    "#   overriding"
   ]
  },
  {
   "cell_type": "code",
   "execution_count": 96,
   "metadata": {},
   "outputs": [],
   "source": [
    "obju = unix()\n",
    "objl = linux()"
   ]
  },
  {
   "cell_type": "code",
   "execution_count": 97,
   "metadata": {},
   "outputs": [
    {
     "name": "stdout",
     "output_type": "stream",
     "text": [
      "source code available\n",
      "source code modifiable, create your own linux\n"
     ]
    }
   ],
   "source": [
    "obju.opensource()\n",
    "objl.opensource()"
   ]
  },
  {
   "cell_type": "code",
   "execution_count": 102,
   "metadata": {},
   "outputs": [],
   "source": [
    "class unix:\n",
    "    def cmd(self):\n",
    "        print(\"great command line\")\n",
    "    def opensource(self):\n",
    "        print(\"source code available\")\n",
    "\n",
    "class ui():\n",
    "    def gui(self):\n",
    "        print(\"great user interface\")\n",
    "\n",
    "class linux(unix):\n",
    "    def free(self):\n",
    "        print(\"free of cost\")\n",
    "    def opensource(self):\n",
    "        print(\"source code modifiable, create your own linux\")\n",
    "        \n",
    "class android(linux, ui):\n",
    "    def mobile():\n",
    "        print(\"works well with smaller devices\")"
   ]
  },
  {
   "cell_type": "code",
   "execution_count": 103,
   "metadata": {},
   "outputs": [],
   "source": [
    "obja = android()"
   ]
  },
  {
   "cell_type": "code",
   "execution_count": 104,
   "metadata": {},
   "outputs": [
    {
     "name": "stdout",
     "output_type": "stream",
     "text": [
      "great user interface\n"
     ]
    }
   ],
   "source": [
    "obja.gui()"
   ]
  },
  {
   "cell_type": "code",
   "execution_count": 107,
   "metadata": {},
   "outputs": [],
   "source": [
    "class unix:\n",
    "    def cmd(self):\n",
    "        print(\"great command line\")\n",
    "    def opensource(self):\n",
    "        print(\"source code available\")\n",
    "\n",
    "class ui:\n",
    "    def gui(self):\n",
    "        print(\"great user interface\")\n",
    "    def opensource(self):\n",
    "        print(\"beautiful self\")\n",
    "\n",
    "class linux(unix):\n",
    "    def free(self):\n",
    "        print(\"free of cost\")\n",
    "    def opensource(self):\n",
    "        print(\"source code modifiable, create your own linux\")\n",
    "        \n",
    "class android(linux, ui):\n",
    "    def mobile(self):\n",
    "        print(\"works well with smaller devices\")"
   ]
  },
  {
   "cell_type": "code",
   "execution_count": 108,
   "metadata": {},
   "outputs": [],
   "source": [
    "obja = android()"
   ]
  },
  {
   "cell_type": "code",
   "execution_count": 109,
   "metadata": {},
   "outputs": [
    {
     "name": "stdout",
     "output_type": "stream",
     "text": [
      "source code modifiable, create your own linux\n"
     ]
    }
   ],
   "source": [
    "obja.opensource()"
   ]
  },
  {
   "cell_type": "code",
   "execution_count": 110,
   "metadata": {},
   "outputs": [],
   "source": [
    "class unix:\n",
    "    def cmd(self):\n",
    "        print(\"great command line\")\n",
    "    def opensource(self):\n",
    "        print(\"source code available\")\n",
    "\n",
    "class ui:\n",
    "    def gui(self):\n",
    "        print(\"great user interface\")\n",
    "    def opensource(self):\n",
    "        print(\"beautiful self\")\n",
    "\n",
    "class linux(unix):\n",
    "    def free(self):\n",
    "        print(\"free of cost\")\n",
    "    def opensource(self):\n",
    "        print(\"source code modifiable, create your own linux\")\n",
    "        \n",
    "class android(ui, linux):\n",
    "    def mobile(self):\n",
    "        print(\"works well with smaller devices\")"
   ]
  },
  {
   "cell_type": "code",
   "execution_count": 111,
   "metadata": {},
   "outputs": [],
   "source": [
    "obja = android()"
   ]
  },
  {
   "cell_type": "code",
   "execution_count": 112,
   "metadata": {},
   "outputs": [
    {
     "name": "stdout",
     "output_type": "stream",
     "text": [
      "beautiful self\n"
     ]
    }
   ],
   "source": [
    "obja.opensource()"
   ]
  },
  {
   "cell_type": "code",
   "execution_count": 113,
   "metadata": {},
   "outputs": [],
   "source": [
    "obja = android()\n",
    "objb = android()"
   ]
  },
  {
   "cell_type": "code",
   "execution_count": 114,
   "metadata": {},
   "outputs": [
    {
     "ename": "TypeError",
     "evalue": "unsupported operand type(s) for +: 'android' and 'android'",
     "output_type": "error",
     "traceback": [
      "\u001b[0;31m---------------------------------------------------------------------------\u001b[0m",
      "\u001b[0;31mTypeError\u001b[0m                                 Traceback (most recent call last)",
      "\u001b[0;32m<ipython-input-114-5f59e951d01b>\u001b[0m in \u001b[0;36m<module>\u001b[0;34m\u001b[0m\n\u001b[0;32m----> 1\u001b[0;31m \u001b[0mobja\u001b[0m \u001b[0;34m+\u001b[0m \u001b[0mobjb\u001b[0m\u001b[0;34m\u001b[0m\u001b[0;34m\u001b[0m\u001b[0m\n\u001b[0m",
      "\u001b[0;31mTypeError\u001b[0m: unsupported operand type(s) for +: 'android' and 'android'"
     ]
    }
   ],
   "source": [
    "obja + objb"
   ]
  },
  {
   "cell_type": "code",
   "execution_count": 115,
   "metadata": {},
   "outputs": [
    {
     "data": {
      "text/plain": [
       "15"
      ]
     },
     "execution_count": 115,
     "metadata": {},
     "output_type": "execute_result"
    }
   ],
   "source": [
    "7 + 8"
   ]
  },
  {
   "cell_type": "code",
   "execution_count": 116,
   "metadata": {},
   "outputs": [
    {
     "data": {
      "text/plain": [
       "'hihello'"
      ]
     },
     "execution_count": 116,
     "metadata": {},
     "output_type": "execute_result"
    }
   ],
   "source": [
    "\"hi\" + \"hello\""
   ]
  },
  {
   "cell_type": "code",
   "execution_count": 117,
   "metadata": {},
   "outputs": [],
   "source": [
    "#    dual behaviour of + \n",
    "#    operator overloading\n",
    "#    polymorphism (poly = many, morph = forms)"
   ]
  },
  {
   "cell_type": "code",
   "execution_count": 118,
   "metadata": {},
   "outputs": [
    {
     "data": {
      "text/plain": [
       "[1, 2, 4, 6, 1, 3]"
      ]
     },
     "execution_count": 118,
     "metadata": {},
     "output_type": "execute_result"
    }
   ],
   "source": [
    "[1, 2, 4] + [6, 1, 3]"
   ]
  },
  {
   "cell_type": "code",
   "execution_count": 119,
   "metadata": {},
   "outputs": [],
   "source": [
    "class time:\n",
    "    def __init__(self, h=0, m=0):\n",
    "        self.hours = h\n",
    "        self.minutes = m\n",
    "    \n",
    "    def display(self):\n",
    "        print(self.hours, \"hours and\", self.minutes, \"minutes\")"
   ]
  },
  {
   "cell_type": "code",
   "execution_count": 121,
   "metadata": {},
   "outputs": [],
   "source": [
    "morn = time(1, 55)"
   ]
  },
  {
   "cell_type": "code",
   "execution_count": 123,
   "metadata": {},
   "outputs": [],
   "source": [
    "noon = time(1, 45)"
   ]
  },
  {
   "cell_type": "code",
   "execution_count": 124,
   "metadata": {},
   "outputs": [
    {
     "ename": "TypeError",
     "evalue": "unsupported operand type(s) for +: 'time' and 'time'",
     "output_type": "error",
     "traceback": [
      "\u001b[0;31m---------------------------------------------------------------------------\u001b[0m",
      "\u001b[0;31mTypeError\u001b[0m                                 Traceback (most recent call last)",
      "\u001b[0;32m<ipython-input-124-3e5aaf64a997>\u001b[0m in \u001b[0;36m<module>\u001b[0;34m\u001b[0m\n\u001b[0;32m----> 1\u001b[0;31m \u001b[0mtotal\u001b[0m \u001b[0;34m=\u001b[0m \u001b[0mmorn\u001b[0m \u001b[0;34m+\u001b[0m \u001b[0mnoon\u001b[0m\u001b[0;34m\u001b[0m\u001b[0;34m\u001b[0m\u001b[0m\n\u001b[0m",
      "\u001b[0;31mTypeError\u001b[0m: unsupported operand type(s) for +: 'time' and 'time'"
     ]
    }
   ],
   "source": [
    "total = morn + noon\n",
    "#     time.__add__(morn, noon)"
   ]
  },
  {
   "cell_type": "code",
   "execution_count": 127,
   "metadata": {},
   "outputs": [],
   "source": [
    "class time:\n",
    "    def __init__(self, h=0, m=0):\n",
    "        self.hours = h\n",
    "        self.minutes = m\n",
    "    \n",
    "    def display(self):\n",
    "        print(self.hours, \"hours and\", self.minutes, \"minutes\")\n",
    "        \n",
    "    def __add__(self, other):\n",
    "        min1 = self.hours*60 + self.minutes\n",
    "        min2 = other.hours*60 + other.minutes\n",
    "        min_tot = min1 + min2\n",
    "        temp = time()\n",
    "        temp.hours = min_tot//60\n",
    "        temp.minutes = min_tot%60\n",
    "        return temp"
   ]
  },
  {
   "cell_type": "code",
   "execution_count": null,
   "metadata": {},
   "outputs": [],
   "source": [
    "\n"
   ]
  },
  {
   "cell_type": "code",
   "execution_count": 131,
   "metadata": {},
   "outputs": [],
   "source": [
    "morn = time(1, 55)\n",
    "noon = time(1, 45)\n",
    "eve = time(1, 25)"
   ]
  },
  {
   "cell_type": "code",
   "execution_count": 132,
   "metadata": {},
   "outputs": [],
   "source": [
    "total = morn + noon + eve"
   ]
  },
  {
   "cell_type": "code",
   "execution_count": 133,
   "metadata": {},
   "outputs": [
    {
     "name": "stdout",
     "output_type": "stream",
     "text": [
      "5 hours and 5 minutes\n"
     ]
    }
   ],
   "source": [
    "total.display()"
   ]
  },
  {
   "cell_type": "code",
   "execution_count": 134,
   "metadata": {},
   "outputs": [],
   "source": [
    "#+    __add__\n",
    "#-    __sub__\n",
    "#*    __mul__\n"
   ]
  },
  {
   "cell_type": "code",
   "execution_count": 135,
   "metadata": {},
   "outputs": [
    {
     "ename": "TypeError",
     "evalue": "'<' not supported between instances of 'time' and 'time'",
     "output_type": "error",
     "traceback": [
      "\u001b[0;31m---------------------------------------------------------------------------\u001b[0m",
      "\u001b[0;31mTypeError\u001b[0m                                 Traceback (most recent call last)",
      "\u001b[0;32m<ipython-input-135-3cb6d2916f4b>\u001b[0m in \u001b[0;36m<module>\u001b[0;34m\u001b[0m\n\u001b[0;32m----> 1\u001b[0;31m \u001b[0mmorn\u001b[0m \u001b[0;34m<\u001b[0m \u001b[0mnoon\u001b[0m\u001b[0;34m\u001b[0m\u001b[0;34m\u001b[0m\u001b[0m\n\u001b[0m",
      "\u001b[0;31mTypeError\u001b[0m: '<' not supported between instances of 'time' and 'time'"
     ]
    }
   ],
   "source": [
    "morn < noon"
   ]
  },
  {
   "cell_type": "code",
   "execution_count": 136,
   "metadata": {},
   "outputs": [],
   "source": [
    "class time:\n",
    "    def __init__(self, h=0, m=0):\n",
    "        self.hours = h\n",
    "        self.minutes = m\n",
    "    \n",
    "    def display(self):\n",
    "        print(self.hours, \"hours and\", self.minutes, \"minutes\")\n",
    "        \n",
    "    def __add__(self, other):\n",
    "        min1 = self.hours*60 + self.minutes\n",
    "        min2 = other.hours*60 + other.minutes\n",
    "        min_tot = min1 + min2\n",
    "        temp = time()\n",
    "        temp.hours = min_tot//60\n",
    "        temp.minutes = min_tot%60\n",
    "        return temp\n",
    "    \n",
    "    def __lt__(self, other):\n",
    "        min1 = self.hours*60 + self.minutes\n",
    "        min2 = other.hours*60 + other.minutes\n",
    "        if (min1 < min2):\n",
    "            return True\n",
    "        else:\n",
    "            return False"
   ]
  },
  {
   "cell_type": "code",
   "execution_count": 137,
   "metadata": {},
   "outputs": [],
   "source": [
    "morn = time(1, 55)\n",
    "noon = time(1, 45)\n",
    "eve = time(1, 25)"
   ]
  },
  {
   "cell_type": "code",
   "execution_count": 138,
   "metadata": {},
   "outputs": [
    {
     "data": {
      "text/plain": [
       "False"
      ]
     },
     "execution_count": 138,
     "metadata": {},
     "output_type": "execute_result"
    }
   ],
   "source": [
    "morn < noon"
   ]
  },
  {
   "cell_type": "code",
   "execution_count": null,
   "metadata": {},
   "outputs": [],
   "source": [
    "morn > noon"
   ]
  }
 ],
 "metadata": {
  "kernelspec": {
   "display_name": "Python 3",
   "language": "python",
   "name": "python3"
  },
  "language_info": {
   "codemirror_mode": {
    "name": "ipython",
    "version": 3
   },
   "file_extension": ".py",
   "mimetype": "text/x-python",
   "name": "python",
   "nbconvert_exporter": "python",
   "pygments_lexer": "ipython3",
   "version": "3.7.7"
  }
 },
 "nbformat": 4,
 "nbformat_minor": 4
}
