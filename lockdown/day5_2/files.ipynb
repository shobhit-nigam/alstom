{
 "cells": [
  {
   "cell_type": "code",
   "execution_count": 1,
   "metadata": {},
   "outputs": [],
   "source": [
    "fa = open(\"books.txt\", \"r\")"
   ]
  },
  {
   "cell_type": "code",
   "execution_count": 2,
   "metadata": {},
   "outputs": [],
   "source": [
    "#   io_wrappers"
   ]
  },
  {
   "cell_type": "code",
   "execution_count": 3,
   "metadata": {},
   "outputs": [],
   "source": [
    "import os"
   ]
  },
  {
   "cell_type": "code",
   "execution_count": 4,
   "metadata": {},
   "outputs": [
    {
     "data": {
      "text/plain": [
       "['books.txt', 'files.ipynb', 'registration.txt', '.ipynb_checkpoints']"
      ]
     },
     "execution_count": 4,
     "metadata": {},
     "output_type": "execute_result"
    }
   ],
   "source": [
    "os.listdir()"
   ]
  },
  {
   "cell_type": "code",
   "execution_count": 5,
   "metadata": {},
   "outputs": [],
   "source": [
    "stra = fa.read(4)"
   ]
  },
  {
   "cell_type": "code",
   "execution_count": 6,
   "metadata": {},
   "outputs": [
    {
     "name": "stdout",
     "output_type": "stream",
     "text": [
      "bhag\n"
     ]
    }
   ],
   "source": [
    "print(stra)"
   ]
  },
  {
   "cell_type": "code",
   "execution_count": 8,
   "metadata": {},
   "outputs": [],
   "source": [
    "pass"
   ]
  },
  {
   "cell_type": "code",
   "execution_count": 9,
   "metadata": {},
   "outputs": [],
   "source": [
    "strb = fa.read(17)"
   ]
  },
  {
   "cell_type": "code",
   "execution_count": 10,
   "metadata": {},
   "outputs": [
    {
     "name": "stdout",
     "output_type": "stream",
     "text": [
      "wad geeta\n",
      "quran\n",
      "b\n"
     ]
    }
   ],
   "source": [
    "print(strb)"
   ]
  },
  {
   "cell_type": "code",
   "execution_count": 11,
   "metadata": {},
   "outputs": [
    {
     "data": {
      "text/plain": [
       "'wad geeta\\nquran\\nb'"
      ]
     },
     "execution_count": 11,
     "metadata": {},
     "output_type": "execute_result"
    }
   ],
   "source": [
    "strb"
   ]
  },
  {
   "cell_type": "code",
   "execution_count": 12,
   "metadata": {},
   "outputs": [
    {
     "data": {
      "text/plain": [
       "21"
      ]
     },
     "execution_count": 12,
     "metadata": {},
     "output_type": "execute_result"
    }
   ],
   "source": [
    "fa.tell()"
   ]
  },
  {
   "cell_type": "code",
   "execution_count": 13,
   "metadata": {},
   "outputs": [
    {
     "data": {
      "text/plain": [
       "0"
      ]
     },
     "execution_count": 13,
     "metadata": {},
     "output_type": "execute_result"
    }
   ],
   "source": [
    "fa.seek(0)"
   ]
  },
  {
   "cell_type": "code",
   "execution_count": 14,
   "metadata": {},
   "outputs": [],
   "source": [
    "strc = fa.readline()"
   ]
  },
  {
   "cell_type": "code",
   "execution_count": 15,
   "metadata": {},
   "outputs": [
    {
     "name": "stdout",
     "output_type": "stream",
     "text": [
      "bhagwad geeta\n",
      "\n"
     ]
    }
   ],
   "source": [
    "print(strc)"
   ]
  },
  {
   "cell_type": "code",
   "execution_count": 16,
   "metadata": {},
   "outputs": [
    {
     "data": {
      "text/plain": [
       "'bhagwad geeta\\n'"
      ]
     },
     "execution_count": 16,
     "metadata": {},
     "output_type": "execute_result"
    }
   ],
   "source": [
    "strc"
   ]
  },
  {
   "cell_type": "code",
   "execution_count": 17,
   "metadata": {},
   "outputs": [],
   "source": [
    "fa.close()"
   ]
  },
  {
   "cell_type": "code",
   "execution_count": 18,
   "metadata": {},
   "outputs": [
    {
     "ename": "ValueError",
     "evalue": "I/O operation on closed file.",
     "output_type": "error",
     "traceback": [
      "\u001b[0;31m---------------------------------------------------------------------------\u001b[0m",
      "\u001b[0;31mValueError\u001b[0m                                Traceback (most recent call last)",
      "\u001b[0;32m<ipython-input-18-1d5ebda80c9d>\u001b[0m in \u001b[0;36m<module>\u001b[0;34m\u001b[0m\n\u001b[0;32m----> 1\u001b[0;31m \u001b[0mfa\u001b[0m\u001b[0;34m.\u001b[0m\u001b[0mread\u001b[0m\u001b[0;34m(\u001b[0m\u001b[0;36m3\u001b[0m\u001b[0;34m)\u001b[0m\u001b[0;34m\u001b[0m\u001b[0;34m\u001b[0m\u001b[0m\n\u001b[0m",
      "\u001b[0;31mValueError\u001b[0m: I/O operation on closed file."
     ]
    }
   ],
   "source": [
    "fa.read(3)"
   ]
  },
  {
   "cell_type": "code",
   "execution_count": 19,
   "metadata": {},
   "outputs": [
    {
     "data": {
      "text/plain": [
       "True"
      ]
     },
     "execution_count": 19,
     "metadata": {},
     "output_type": "execute_result"
    }
   ],
   "source": [
    "fa.closed"
   ]
  },
  {
   "cell_type": "code",
   "execution_count": 20,
   "metadata": {},
   "outputs": [],
   "source": [
    "fa = open(\"books.txt\", \"r\")"
   ]
  },
  {
   "cell_type": "code",
   "execution_count": 21,
   "metadata": {},
   "outputs": [
    {
     "data": {
      "text/plain": [
       "True"
      ]
     },
     "execution_count": 21,
     "metadata": {},
     "output_type": "execute_result"
    }
   ],
   "source": [
    "fa.readable()"
   ]
  },
  {
   "cell_type": "code",
   "execution_count": 22,
   "metadata": {},
   "outputs": [
    {
     "data": {
      "text/plain": [
       "False"
      ]
     },
     "execution_count": 22,
     "metadata": {},
     "output_type": "execute_result"
    }
   ],
   "source": [
    "fa.writable()"
   ]
  },
  {
   "cell_type": "code",
   "execution_count": 23,
   "metadata": {},
   "outputs": [],
   "source": [
    "strd = fa.read()"
   ]
  },
  {
   "cell_type": "code",
   "execution_count": 24,
   "metadata": {
    "scrolled": true
   },
   "outputs": [
    {
     "name": "stdout",
     "output_type": "stream",
     "text": [
      "bhagwad geeta\n",
      "quran\n",
      "bible\n",
      "guru granth sahib\n",
      "torah\n",
      "tanakh\n",
      "tripitaka\n",
      "agams\n",
      "i ching\n",
      "avesta\n",
      "kitab-i-aqdas\n",
      "kojiki\n",
      "\n"
     ]
    }
   ],
   "source": [
    "print(strd)"
   ]
  },
  {
   "cell_type": "code",
   "execution_count": 25,
   "metadata": {},
   "outputs": [],
   "source": [
    "listd = strd.split()   # space, newline, tab etc..."
   ]
  },
  {
   "cell_type": "code",
   "execution_count": 26,
   "metadata": {},
   "outputs": [
    {
     "data": {
      "text/plain": [
       "['bhagwad',\n",
       " 'geeta',\n",
       " 'quran',\n",
       " 'bible',\n",
       " 'guru',\n",
       " 'granth',\n",
       " 'sahib',\n",
       " 'torah',\n",
       " 'tanakh',\n",
       " 'tripitaka',\n",
       " 'agams',\n",
       " 'i',\n",
       " 'ching',\n",
       " 'avesta',\n",
       " 'kitab-i-aqdas',\n",
       " 'kojiki']"
      ]
     },
     "execution_count": 26,
     "metadata": {},
     "output_type": "execute_result"
    }
   ],
   "source": [
    "listd"
   ]
  },
  {
   "cell_type": "code",
   "execution_count": 27,
   "metadata": {},
   "outputs": [
    {
     "data": {
      "text/plain": [
       "16"
      ]
     },
     "execution_count": 27,
     "metadata": {},
     "output_type": "execute_result"
    }
   ],
   "source": [
    "len(strd.split())"
   ]
  },
  {
   "cell_type": "code",
   "execution_count": 28,
   "metadata": {},
   "outputs": [
    {
     "data": {
      "text/plain": [
       "12"
      ]
     },
     "execution_count": 28,
     "metadata": {},
     "output_type": "execute_result"
    }
   ],
   "source": [
    "len(strd.splitlines())"
   ]
  },
  {
   "cell_type": "code",
   "execution_count": 29,
   "metadata": {},
   "outputs": [],
   "source": [
    "fa.close()"
   ]
  },
  {
   "cell_type": "code",
   "execution_count": 30,
   "metadata": {},
   "outputs": [],
   "source": [
    "fb = open(\"library.txt\", \"w\")   #w is dangerous"
   ]
  },
  {
   "cell_type": "code",
   "execution_count": 31,
   "metadata": {},
   "outputs": [],
   "source": [
    "listd = strd.splitlines()"
   ]
  },
  {
   "cell_type": "code",
   "execution_count": 32,
   "metadata": {},
   "outputs": [],
   "source": [
    "listd.sort()"
   ]
  },
  {
   "cell_type": "code",
   "execution_count": 34,
   "metadata": {},
   "outputs": [
    {
     "data": {
      "text/plain": [
       "['agams',\n",
       " 'avesta',\n",
       " 'bhagwad geeta',\n",
       " 'bible',\n",
       " 'guru granth sahib',\n",
       " 'i ching',\n",
       " 'kitab-i-aqdas',\n",
       " 'kojiki',\n",
       " 'quran',\n",
       " 'tanakh',\n",
       " 'torah',\n",
       " 'tripitaka']"
      ]
     },
     "execution_count": 34,
     "metadata": {},
     "output_type": "execute_result"
    }
   ],
   "source": [
    "listd"
   ]
  },
  {
   "cell_type": "code",
   "execution_count": 35,
   "metadata": {},
   "outputs": [
    {
     "data": {
      "text/plain": [
       "33"
      ]
     },
     "execution_count": 35,
     "metadata": {},
     "output_type": "execute_result"
    }
   ],
   "source": [
    "fb.write(\"hey, books sorted alphabetically\\n\")"
   ]
  },
  {
   "cell_type": "code",
   "execution_count": 36,
   "metadata": {},
   "outputs": [],
   "source": [
    "fb.close()"
   ]
  },
  {
   "cell_type": "code",
   "execution_count": 38,
   "metadata": {},
   "outputs": [
    {
     "data": {
      "text/plain": [
       "True"
      ]
     },
     "execution_count": 38,
     "metadata": {},
     "output_type": "execute_result"
    }
   ],
   "source": [
    "fb.closed"
   ]
  },
  {
   "cell_type": "code",
   "execution_count": 39,
   "metadata": {},
   "outputs": [],
   "source": [
    "fb = open(\"library.txt\", \"a\")"
   ]
  },
  {
   "cell_type": "code",
   "execution_count": 40,
   "metadata": {},
   "outputs": [],
   "source": [
    "for line in listd:\n",
    "    fb.write(line)\n",
    "    fb.write(\"\\n\")"
   ]
  },
  {
   "cell_type": "code",
   "execution_count": 41,
   "metadata": {},
   "outputs": [],
   "source": [
    "fb.close()"
   ]
  },
  {
   "cell_type": "code",
   "execution_count": 43,
   "metadata": {},
   "outputs": [
    {
     "name": "stdout",
     "output_type": "stream",
     "text": [
      "bhagwad geeta\n",
      "quran\n",
      "bible\n",
      "guru granth sahib\n",
      "torah\n",
      "tanakh\n",
      "tripitaka\n",
      "agams\n",
      "i ching\n",
      "avesta\n",
      "kitab-i-aqdas\n",
      "kojiki\n",
      "\n"
     ]
    }
   ],
   "source": [
    "print(strd)"
   ]
  },
  {
   "cell_type": "code",
   "execution_count": 44,
   "metadata": {},
   "outputs": [],
   "source": [
    "fr = open('registration.txt', 'r')"
   ]
  },
  {
   "cell_type": "code",
   "execution_count": 45,
   "metadata": {},
   "outputs": [],
   "source": [
    "strr = fr.read()"
   ]
  },
  {
   "cell_type": "code",
   "execution_count": 46,
   "metadata": {},
   "outputs": [
    {
     "data": {
      "text/plain": [
       "0"
      ]
     },
     "execution_count": 46,
     "metadata": {},
     "output_type": "execute_result"
    }
   ],
   "source": [
    "fr.seek(0)"
   ]
  },
  {
   "cell_type": "code",
   "execution_count": 47,
   "metadata": {},
   "outputs": [],
   "source": [
    "strs = fr.readlines()"
   ]
  },
  {
   "cell_type": "code",
   "execution_count": 48,
   "metadata": {},
   "outputs": [
    {
     "data": {
      "text/plain": [
       "list"
      ]
     },
     "execution_count": 48,
     "metadata": {},
     "output_type": "execute_result"
    }
   ],
   "source": [
    "type(strs)"
   ]
  },
  {
   "cell_type": "code",
   "execution_count": 50,
   "metadata": {},
   "outputs": [
    {
     "data": {
      "text/plain": [
       "31"
      ]
     },
     "execution_count": 50,
     "metadata": {},
     "output_type": "execute_result"
    }
   ],
   "source": [
    "len(strs)"
   ]
  },
  {
   "cell_type": "code",
   "execution_count": 51,
   "metadata": {},
   "outputs": [],
   "source": [
    "strs = strr.splitlines()"
   ]
  },
  {
   "cell_type": "code",
   "execution_count": 55,
   "metadata": {},
   "outputs": [],
   "source": [
    "names = []\n",
    "for line in strs:\n",
    "    temp = line.split()\n",
    "    names.append(temp[0])"
   ]
  },
  {
   "cell_type": "code",
   "execution_count": 56,
   "metadata": {},
   "outputs": [
    {
     "data": {
      "text/plain": [
       "['Ajay',\n",
       " 'Radhika',\n",
       " 'Mahesh',\n",
       " 'Seshadri',\n",
       " 'Thakur',\n",
       " 'Prachi',\n",
       " 'Arunkumar',\n",
       " 'NAMAMI',\n",
       " 'Kumaresan',\n",
       " 'Baburaj',\n",
       " 'Pradosh',\n",
       " 'Praveen',\n",
       " 'Partho',\n",
       " 'Santosh',\n",
       " 'visweswara',\n",
       " 'Laji',\n",
       " 'Apser',\n",
       " 'Vivek',\n",
       " 'Pavithra',\n",
       " 'Sandeep',\n",
       " 'Abinaya',\n",
       " 'Harsumeet',\n",
       " 'Shruthi',\n",
       " 'ajay',\n",
       " 'Narendrakumar',\n",
       " 'vinod',\n",
       " 'Vishal',\n",
       " 'Karun',\n",
       " 'Aditya',\n",
       " 'Thanuja',\n",
       " 'Digvijay']"
      ]
     },
     "execution_count": 56,
     "metadata": {},
     "output_type": "execute_result"
    }
   ],
   "source": [
    "names"
   ]
  },
  {
   "cell_type": "code",
   "execution_count": 59,
   "metadata": {},
   "outputs": [],
   "source": [
    "email = []\n",
    "for line in strs:\n",
    "    temp = line.split()\n",
    "    email.append(temp[-1])"
   ]
  },
  {
   "cell_type": "code",
   "execution_count": 60,
   "metadata": {},
   "outputs": [
    {
     "data": {
      "text/plain": [
       "['miku.ajay89@gmail.com',\n",
       " 'radhika.agrawal@alstomgroup.com',\n",
       " 'mahesh-chandra-anand.jella@alstomgroup.com',\n",
       " 'seshadri.comandur-srinivasa@alstomgroup.com',\n",
       " 'thakur.anshuman-singh@alstomgroup.com',\n",
       " 'prachi.srivastava@alstomgroup.com',\n",
       " 'arunkumar.arivaradhan@alstomgroup.com',\n",
       " 'namami.das@alstomgroup.com',\n",
       " 'kumaresan.p@alstomgroup.com',\n",
       " 'baburaj@ftdinfocom.com',\n",
       " 'pradosh.anandan@alstomgroup.com',\n",
       " 'praveen.k@alstomgroup.com',\n",
       " 'partho.ganguly@alstomgroup.com',\n",
       " 'santosh.jagu@alstomgroup.com',\n",
       " 'visweswara-rao.dhanimireddy@alstomgroup.com',\n",
       " 'laji.c-a@alstomgroup.com',\n",
       " 'apser.basha-a@alstomgroup.com',\n",
       " 'vivek.bajpai@alstomgroup.com',\n",
       " 'pavithra.n@alstomgroup.com',\n",
       " 'sandeep.chawla@alstomgroup.com',\n",
       " 'abinaya.sundaram@alstomgroup.com',\n",
       " 'harsumeet.kaur@alstomgroup.com',\n",
       " 'shruthi.cr@alstomgroup.com',\n",
       " 'ajay.kumar-2@alstomgroup.com',\n",
       " 'narendra-kumar.kompelli@alstomgroup.com',\n",
       " 'vinod.kumar-verma@alstomgroup.com',\n",
       " 'vishal.hasure@alstomgroup.com',\n",
       " 'karun-deep.kolla@alstomgroup.com',\n",
       " 'aditya.kulkarni@alstomgroup.com',\n",
       " 'thanuja.g@alstomgroup.com',\n",
       " 'digvijay.singh-bhati@alstomgroup.c']"
      ]
     },
     "execution_count": 60,
     "metadata": {},
     "output_type": "execute_result"
    }
   ],
   "source": [
    "email"
   ]
  },
  {
   "cell_type": "code",
   "execution_count": 61,
   "metadata": {},
   "outputs": [],
   "source": [
    "fr.close()"
   ]
  },
  {
   "cell_type": "code",
   "execution_count": 62,
   "metadata": {},
   "outputs": [],
   "source": [
    "fr = open('registration.txt', 'r')\n",
    "strr = fr.read()\n",
    "strs = strr.splitlines()\n",
    "\n",
    "email = []\n",
    "for line in strs:\n",
    "    temp = line.split()\n",
    "    email.append(temp[-1])"
   ]
  },
  {
   "cell_type": "code",
   "execution_count": 63,
   "metadata": {},
   "outputs": [],
   "source": [
    "#{'alstomgroup.com': 28, 'gmail.com': 2, 'ftdinfocom.com':1}"
   ]
  },
  {
   "cell_type": "code",
   "execution_count": 64,
   "metadata": {},
   "outputs": [],
   "source": [
    "dicta = {}\n",
    "temp = []\n",
    "\n",
    "for mail in email:\n",
    "    temp = mail.split('@')\n",
    "    if temp[1] in dicta:\n",
    "        dicta[temp[1]] = dicta[temp[1]] + 1\n",
    "    else:\n",
    "        dicta[temp[1]] = 1"
   ]
  },
  {
   "cell_type": "code",
   "execution_count": 65,
   "metadata": {},
   "outputs": [
    {
     "data": {
      "text/plain": [
       "{'gmail.com': 1, 'alstomgroup.com': 29, 'ftdinfocom.com': 1}"
      ]
     },
     "execution_count": 65,
     "metadata": {},
     "output_type": "execute_result"
    }
   ],
   "source": [
    "dicta"
   ]
  },
  {
   "cell_type": "code",
   "execution_count": 67,
   "metadata": {},
   "outputs": [],
   "source": [
    "fr = open('registration.txt', 'r')\n",
    "strr = fr.read()\n",
    "strs = strr.splitlines()\n",
    "\n",
    "email = []\n",
    "for line in strs:\n",
    "    temp = line.split()\n",
    "    email.append(temp[-1])"
   ]
  },
  {
   "cell_type": "code",
   "execution_count": 68,
   "metadata": {},
   "outputs": [
    {
     "data": {
      "text/plain": [
       "['miku.ajay89@gmail.com',\n",
       " 'radhika.agrawal@alstomgroup.com',\n",
       " 'mahesh-chandra-anand.jella@alstomgroup.com',\n",
       " 'seshadri.comandur-srinivasa@alstomgroup.com',\n",
       " 'thakur.anshuman-singh@alstomgroup.com',\n",
       " 'prachi.srivastava@alstomgroup.com',\n",
       " 'arunkumar.arivaradhan@alstomgroup.com',\n",
       " 'namami.das@alstomgroup.com',\n",
       " 'kumaresan.p@alstomgroup.com',\n",
       " 'baburaj@ftdinfocom.com',\n",
       " 'pradosh.anandan@alstomgroup.com',\n",
       " 'praveen.k@alstomgroup.com',\n",
       " 'partho.ganguly@alstomgroup.com',\n",
       " 'santosh.jagu@alstomgroup.com',\n",
       " 'visweswara-rao.dhanimireddy@alstomgroup.com',\n",
       " 'laji.c-a@alstomgroup.com',\n",
       " 'apser.basha-a@alstomgroup.com',\n",
       " 'vivek.bajpai@alstomgroup.com',\n",
       " 'pavithra.n@alstomgroup.com',\n",
       " 'sandeep.chawla@alstomgroup.com',\n",
       " 'abinaya.sundaram@alstomgroup.com',\n",
       " 'harsumeet.kaur@alstomgroup.com',\n",
       " 'shruthi.cr@alstomgroup.com',\n",
       " 'ajay.kumar-2@alstomgroup.com',\n",
       " 'narendra-kumar.kompelli@alstomgroup.com',\n",
       " 'vinod.kumar-verma@alstomgroup.com',\n",
       " 'vishal.hasure@alstomgroup.com',\n",
       " 'karun-deep.kolla@alstomgroup.com',\n",
       " 'aditya.kulkarni@alstomgroup.com',\n",
       " 'thanuja.g@alstomgroup.com',\n",
       " 'digvijay.singh-bhati@alstomgroup.com']"
      ]
     },
     "execution_count": 68,
     "metadata": {},
     "output_type": "execute_result"
    }
   ],
   "source": [
    "email"
   ]
  },
  {
   "cell_type": "code",
   "execution_count": 70,
   "metadata": {},
   "outputs": [
    {
     "name": "stdout",
     "output_type": "stream",
     "text": [
      "{'gmail.com': 1}\n",
      "{'gmail.com': 1, 'alstomgroup.com': 1}\n",
      "{'gmail.com': 1, 'alstomgroup.com': 2}\n",
      "{'gmail.com': 1, 'alstomgroup.com': 3}\n",
      "{'gmail.com': 1, 'alstomgroup.com': 4}\n",
      "{'gmail.com': 1, 'alstomgroup.com': 5}\n",
      "{'gmail.com': 1, 'alstomgroup.com': 6}\n",
      "{'gmail.com': 1, 'alstomgroup.com': 7}\n",
      "{'gmail.com': 1, 'alstomgroup.com': 8}\n",
      "{'gmail.com': 1, 'alstomgroup.com': 8, 'ftdinfocom.com': 1}\n",
      "{'gmail.com': 1, 'alstomgroup.com': 9, 'ftdinfocom.com': 1}\n",
      "{'gmail.com': 1, 'alstomgroup.com': 10, 'ftdinfocom.com': 1}\n",
      "{'gmail.com': 1, 'alstomgroup.com': 11, 'ftdinfocom.com': 1}\n",
      "{'gmail.com': 1, 'alstomgroup.com': 12, 'ftdinfocom.com': 1}\n",
      "{'gmail.com': 1, 'alstomgroup.com': 13, 'ftdinfocom.com': 1}\n",
      "{'gmail.com': 1, 'alstomgroup.com': 14, 'ftdinfocom.com': 1}\n",
      "{'gmail.com': 1, 'alstomgroup.com': 15, 'ftdinfocom.com': 1}\n",
      "{'gmail.com': 1, 'alstomgroup.com': 16, 'ftdinfocom.com': 1}\n",
      "{'gmail.com': 1, 'alstomgroup.com': 17, 'ftdinfocom.com': 1}\n",
      "{'gmail.com': 1, 'alstomgroup.com': 18, 'ftdinfocom.com': 1}\n",
      "{'gmail.com': 1, 'alstomgroup.com': 19, 'ftdinfocom.com': 1}\n",
      "{'gmail.com': 1, 'alstomgroup.com': 20, 'ftdinfocom.com': 1}\n",
      "{'gmail.com': 1, 'alstomgroup.com': 21, 'ftdinfocom.com': 1}\n",
      "{'gmail.com': 1, 'alstomgroup.com': 22, 'ftdinfocom.com': 1}\n",
      "{'gmail.com': 1, 'alstomgroup.com': 23, 'ftdinfocom.com': 1}\n",
      "{'gmail.com': 1, 'alstomgroup.com': 24, 'ftdinfocom.com': 1}\n",
      "{'gmail.com': 1, 'alstomgroup.com': 25, 'ftdinfocom.com': 1}\n",
      "{'gmail.com': 1, 'alstomgroup.com': 26, 'ftdinfocom.com': 1}\n",
      "{'gmail.com': 1, 'alstomgroup.com': 27, 'ftdinfocom.com': 1}\n",
      "{'gmail.com': 1, 'alstomgroup.com': 28, 'ftdinfocom.com': 1}\n",
      "{'gmail.com': 1, 'alstomgroup.com': 29, 'ftdinfocom.com': 1}\n"
     ]
    }
   ],
   "source": [
    "dicta = {}\n",
    "temp = []\n",
    "import time\n",
    "\n",
    "for mail in email:\n",
    "    temp = mail.split('@')\n",
    "    if temp[1] in dicta:\n",
    "        dicta[temp[1]] = dicta[temp[1]] + 1\n",
    "    else:\n",
    "        dicta[temp[1]] = 1\n",
    "    time.sleep(1)\n",
    "    print(dicta)"
   ]
  },
  {
   "cell_type": "code",
   "execution_count": 71,
   "metadata": {},
   "outputs": [],
   "source": [
    "fr.close()"
   ]
  },
  {
   "cell_type": "code",
   "execution_count": 76,
   "metadata": {},
   "outputs": [
    {
     "name": "stdout",
     "output_type": "stream",
     "text": [
      "Ajay Kumar \n",
      "Radhika Agrawal \n",
      "Mahesh J \n",
      "Seshadri Comandur Srinivasa \n",
      "Thakur Anshuman Singh \n",
      "Prachi Srivastava \n",
      "Arunkumar Arivaradhan \n",
      "NAMAMI DAS \n",
      "Kumaresan P \n",
      "Baburaj Sudhakaran \n",
      "Pradosh Anandan \n",
      "Praveen K \n",
      "Partho Ganguly \n",
      "Santosh Jagu \n",
      "visweswara rao \n",
      "Laji C A \n",
      "Apser Basha \n",
      "Vivek Bajpai \n",
      "Pavithra N \n",
      "Sandeep Chawla \n",
      "Abinaya Sundaram \n",
      "Harsumeet Kaur \n",
      "Shruthi C R \n",
      "ajay Kumar \n",
      "Narendrakumar Kompelli \n",
      "vinod verma \n",
      "Vishal Vijay Hasure \n",
      "Karun Deep Kolla \n",
      "Aditya Kulkarni \n",
      "Thanuja G \n",
      "Digvijay Singh Bhati \n"
     ]
    }
   ],
   "source": [
    "fr = open('registration.txt', 'r')\n",
    "strr = fr.read()\n",
    "strs = strr.splitlines()\n",
    "\n",
    "for line in strs:\n",
    "    name = line.split()\n",
    "    for n in name[0:-1]:\n",
    "        print(n, end=' ')\n",
    "    print()"
   ]
  },
  {
   "cell_type": "code",
   "execution_count": 78,
   "metadata": {},
   "outputs": [],
   "source": [
    "#   find(\"numbers.txt\", 2, \"avg\")\n",
    "import os"
   ]
  },
  {
   "cell_type": "code",
   "execution_count": 79,
   "metadata": {},
   "outputs": [],
   "source": [
    "def find(file, col, action):\n",
    "    if (~os.path.exists(file)):\n",
    "        print(\"file\", file, \"does not exist\")"
   ]
  },
  {
   "cell_type": "code",
   "execution_count": 80,
   "metadata": {},
   "outputs": [
    {
     "name": "stdout",
     "output_type": "stream",
     "text": [
      "file random.txt does not exist\n"
     ]
    }
   ],
   "source": [
    "find(\"random.txt\", 2, \"avg\")"
   ]
  },
  {
   "cell_type": "code",
   "execution_count": 90,
   "metadata": {},
   "outputs": [],
   "source": [
    "def find(file, col, action):\n",
    "    if (not os.path.exists(file)):\n",
    "        print(\"file\", file, \"does not exist\")\n",
    "        return\n",
    "    temp = []\n",
    "    data = []\n",
    "    d = []\n",
    "    fa = open(file, \"r\")\n",
    "    stra = fa.read()\n",
    "    temp = stra.splitlines()\n",
    "    for line in temp:\n",
    "        d = line.split()\n",
    "        data.append(int(d[col-1]))\n",
    "        \n",
    "    print(data)\n",
    "    if action == \"avg\":\n",
    "        return (sum(data)/len(data))\n",
    "    elif action == \"sum\":\n",
    "        return (sum(data))\n",
    "    elif action == \"min\":\n",
    "        return min(data)\n",
    "    elif action == \"max\":\n",
    "        return max(data)\n",
    "    else:\n",
    "        print(\"giving you the average, as could not understand your need\")\n",
    "        return (sum(data)/len(data))"
   ]
  },
  {
   "cell_type": "code",
   "execution_count": 91,
   "metadata": {},
   "outputs": [
    {
     "name": "stdout",
     "output_type": "stream",
     "text": [
      "[457, 678, 567, 561, 559, 632, 555, 723]\n"
     ]
    }
   ],
   "source": [
    "n = find(\"numbers.txt\", 2, \"avg\")"
   ]
  },
  {
   "cell_type": "code",
   "execution_count": 92,
   "metadata": {},
   "outputs": [
    {
     "data": {
      "text/plain": [
       "591.5"
      ]
     },
     "execution_count": 92,
     "metadata": {},
     "output_type": "execute_result"
    }
   ],
   "source": [
    "n"
   ]
  },
  {
   "cell_type": "code",
   "execution_count": 93,
   "metadata": {},
   "outputs": [
    {
     "name": "stdout",
     "output_type": "stream",
     "text": [
      "[23, 12, 18, 19, 22, 10, 11, 98]\n"
     ]
    }
   ],
   "source": [
    "n = find(\"numbers.txt\", 1, \"sum\")"
   ]
  },
  {
   "cell_type": "code",
   "execution_count": 94,
   "metadata": {},
   "outputs": [
    {
     "data": {
      "text/plain": [
       "213"
      ]
     },
     "execution_count": 94,
     "metadata": {},
     "output_type": "execute_result"
    }
   ],
   "source": [
    "n"
   ]
  },
  {
   "cell_type": "code",
   "execution_count": 95,
   "metadata": {},
   "outputs": [
    {
     "ename": "SyntaxError",
     "evalue": "EOL while scanning string literal (<ipython-input-95-fefb1a5bab91>, line 1)",
     "output_type": "error",
     "traceback": [
      "\u001b[0;36m  File \u001b[0;32m\"<ipython-input-95-fefb1a5bab91>\"\u001b[0;36m, line \u001b[0;32m1\u001b[0m\n\u001b[0;31m    \"python-docx  PyPI\u001b[0m\n\u001b[0m                      ^\u001b[0m\n\u001b[0;31mSyntaxError\u001b[0m\u001b[0;31m:\u001b[0m EOL while scanning string literal\n"
     ]
    }
   ],
   "source": [
    "\"python-docx  PyPI\n",
    "openpyxl\n",
    "pandas\""
   ]
  },
  {
   "cell_type": "code",
   "execution_count": 96,
   "metadata": {},
   "outputs": [
    {
     "name": "stdout",
     "output_type": "stream",
     "text": [
      "Help on method_descriptor:\n",
      "\n",
      "center(self, width, fillchar=' ', /)\n",
      "    Return a centered string of length width.\n",
      "    \n",
      "    Padding is done using the specified fill character (default is a space).\n",
      "\n"
     ]
    }
   ],
   "source": [
    "help(str.center)"
   ]
  },
  {
   "cell_type": "code",
   "execution_count": 97,
   "metadata": {},
   "outputs": [
    {
     "data": {
      "text/plain": [
       "'hello'"
      ]
     },
     "execution_count": 97,
     "metadata": {},
     "output_type": "execute_result"
    }
   ],
   "source": [
    "strb = \"hello\"\n",
    "strb.center(4, 'a')"
   ]
  },
  {
   "cell_type": "code",
   "execution_count": 103,
   "metadata": {},
   "outputs": [],
   "source": [
    "lista = [3, 6, 8]"
   ]
  },
  {
   "cell_type": "code",
   "execution_count": 104,
   "metadata": {},
   "outputs": [],
   "source": [
    "listb = [4, 5, lista]"
   ]
  },
  {
   "cell_type": "code",
   "execution_count": 105,
   "metadata": {},
   "outputs": [
    {
     "data": {
      "text/plain": [
       "[4, 5, [3, 6, 8]]"
      ]
     },
     "execution_count": 105,
     "metadata": {},
     "output_type": "execute_result"
    }
   ],
   "source": [
    "listb"
   ]
  },
  {
   "cell_type": "code",
   "execution_count": 108,
   "metadata": {},
   "outputs": [],
   "source": [
    "lista.reverse()"
   ]
  },
  {
   "cell_type": "code",
   "execution_count": 109,
   "metadata": {},
   "outputs": [
    {
     "data": {
      "text/plain": [
       "[4, 5, [8, 6, 3]]"
      ]
     },
     "execution_count": 109,
     "metadata": {},
     "output_type": "execute_result"
    }
   ],
   "source": [
    "listb"
   ]
  },
  {
   "cell_type": "code",
   "execution_count": null,
   "metadata": {},
   "outputs": [],
   "source": [
    "lista.append(lista)"
   ]
  }
 ],
 "metadata": {
  "kernelspec": {
   "display_name": "Python 3",
   "language": "python",
   "name": "python3"
  },
  "language_info": {
   "codemirror_mode": {
    "name": "ipython",
    "version": 3
   },
   "file_extension": ".py",
   "mimetype": "text/x-python",
   "name": "python",
   "nbconvert_exporter": "python",
   "pygments_lexer": "ipython3",
   "version": "3.7.7"
  }
 },
 "nbformat": 4,
 "nbformat_minor": 4
}
