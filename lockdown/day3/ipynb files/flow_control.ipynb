{
 "cells": [
  {
   "cell_type": "code",
   "execution_count": 1,
   "metadata": {},
   "outputs": [],
   "source": [
    "place = \"earth\""
   ]
  },
  {
   "cell_type": "code",
   "execution_count": 2,
   "metadata": {},
   "outputs": [],
   "source": [
    "i = 0"
   ]
  },
  {
   "cell_type": "code",
   "execution_count": 4,
   "metadata": {},
   "outputs": [
    {
     "name": "stdout",
     "output_type": "stream",
     "text": [
      "e\n",
      "a\n",
      "r\n",
      "t\n",
      "h\n"
     ]
    }
   ],
   "source": [
    "while i<5 :\n",
    "    print(place[i])\n",
    "    i = i+1"
   ]
  },
  {
   "cell_type": "code",
   "execution_count": 5,
   "metadata": {},
   "outputs": [],
   "source": [
    "#   i += 1    i=i+1 "
   ]
  },
  {
   "cell_type": "code",
   "execution_count": 6,
   "metadata": {},
   "outputs": [
    {
     "name": "stdout",
     "output_type": "stream",
     "text": [
      "5\n"
     ]
    }
   ],
   "source": [
    "print(i)"
   ]
  },
  {
   "cell_type": "code",
   "execution_count": 8,
   "metadata": {},
   "outputs": [
    {
     "name": "stdout",
     "output_type": "stream",
     "text": [
      "e\n",
      "a\n",
      "r\n",
      "t\n",
      "h\n",
      "hi\n"
     ]
    }
   ],
   "source": [
    "i = 0\n",
    "while i<5 :\n",
    "    print(place[i])\n",
    "    i = i+1\n",
    "print(\"hi\")"
   ]
  },
  {
   "cell_type": "code",
   "execution_count": 9,
   "metadata": {},
   "outputs": [],
   "source": [
    "varx = 10\n",
    "vary = 20\n",
    "varz = 30"
   ]
  },
  {
   "cell_type": "code",
   "execution_count": 10,
   "metadata": {},
   "outputs": [
    {
     "name": "stdout",
     "output_type": "stream",
     "text": [
      "hello\n",
      "good day\n"
     ]
    }
   ],
   "source": [
    "if varx<vary:\n",
    "    print(\"hello\")\n",
    "    print(\"good day\")\n",
    "else:\n",
    "    print(\"namaste\")"
   ]
  },
  {
   "cell_type": "code",
   "execution_count": 12,
   "metadata": {},
   "outputs": [
    {
     "name": "stdout",
     "output_type": "stream",
     "text": [
      "varz is greatest\n"
     ]
    }
   ],
   "source": [
    "if varx>vary:\n",
    "    print(\"hello\")\n",
    "    print(\"good day\")\n",
    "elif varx>vary and varx>varz:\n",
    "    print(\"varx is the greatest\")\n",
    "elif varx<vary<varz:\n",
    "    print(\"varz is greatest\")\n",
    "else:\n",
    "    print(\"namaste\")"
   ]
  },
  {
   "cell_type": "code",
   "execution_count": 13,
   "metadata": {},
   "outputs": [],
   "source": [
    "#   no switch case"
   ]
  },
  {
   "cell_type": "code",
   "execution_count": 14,
   "metadata": {},
   "outputs": [],
   "source": [
    "cities = ['bengaluru', 'hyderabad', 'mumbai', 'chennai']"
   ]
  },
  {
   "cell_type": "code",
   "execution_count": 15,
   "metadata": {},
   "outputs": [
    {
     "name": "stdout",
     "output_type": "stream",
     "text": [
      "bengaluru\n",
      "hyderabad\n",
      "mumbai\n",
      "chennai\n"
     ]
    }
   ],
   "source": [
    "for c in :     #c=cities[0], c=cities[1], c=cities[2], c=cities[3]\n",
    "    print(c)"
   ]
  },
  {
   "cell_type": "code",
   "execution_count": 16,
   "metadata": {},
   "outputs": [
    {
     "name": "stdout",
     "output_type": "stream",
     "text": [
      "e\n",
      "a\n",
      "r\n",
      "t\n",
      "h\n"
     ]
    }
   ],
   "source": [
    "for c in place:\n",
    "    print(c)"
   ]
  },
  {
   "cell_type": "code",
   "execution_count": 17,
   "metadata": {},
   "outputs": [
    {
     "data": {
      "text/plain": [
       "str"
      ]
     },
     "execution_count": 17,
     "metadata": {},
     "output_type": "execute_result"
    }
   ],
   "source": [
    "type(c)"
   ]
  },
  {
   "cell_type": "code",
   "execution_count": 18,
   "metadata": {},
   "outputs": [
    {
     "name": "stdout",
     "output_type": "stream",
     "text": [
      "9 \t bengaluru\n",
      "9 \t hyderabad\n",
      "6 \t mumbai\n"
     ]
    }
   ],
   "source": [
    "for c in cities[0:3]:\n",
    "    print(len(c), '\\t', c)"
   ]
  },
  {
   "cell_type": "code",
   "execution_count": 20,
   "metadata": {},
   "outputs": [],
   "source": [
    "listx = []\n",
    "place = \"earth\"\n",
    "for c in place:        \n",
    "    listx.append(c)"
   ]
  },
  {
   "cell_type": "code",
   "execution_count": 21,
   "metadata": {},
   "outputs": [
    {
     "name": "stdout",
     "output_type": "stream",
     "text": [
      "['e', 'a', 'r', 't', 'h']\n"
     ]
    }
   ],
   "source": [
    "print(listx)"
   ]
  },
  {
   "cell_type": "code",
   "execution_count": 22,
   "metadata": {},
   "outputs": [
    {
     "name": "stdout",
     "output_type": "stream",
     "text": [
      "h\n"
     ]
    }
   ],
   "source": [
    "print(c)"
   ]
  },
  {
   "cell_type": "code",
   "execution_count": 23,
   "metadata": {},
   "outputs": [],
   "source": [
    "listy = list(place)"
   ]
  },
  {
   "cell_type": "code",
   "execution_count": 24,
   "metadata": {},
   "outputs": [
    {
     "name": "stdout",
     "output_type": "stream",
     "text": [
      "['e', 'a', 'r', 't', 'h']\n",
      "['e', 'a', 'r', 't', 'h']\n"
     ]
    }
   ],
   "source": [
    "print(listx)\n",
    "print(listy)"
   ]
  },
  {
   "cell_type": "code",
   "execution_count": 25,
   "metadata": {},
   "outputs": [],
   "source": [
    "cities = ['bengaluru', 'hyderabad', 'mumbai', 'chennai', 'kochi']"
   ]
  },
  {
   "cell_type": "code",
   "execution_count": 26,
   "metadata": {},
   "outputs": [
    {
     "name": "stdout",
     "output_type": "stream",
     "text": [
      "bengaluru\n",
      "hyderabad\n",
      "mumbai\n"
     ]
    }
   ],
   "source": [
    "for val in cities:\n",
    "    print(val)\n",
    "    if val == 'mumbai':\n",
    "        break"
   ]
  },
  {
   "cell_type": "code",
   "execution_count": 29,
   "metadata": {},
   "outputs": [],
   "source": [
    "cities2 = ['ahemdabad', 'kolkota', 'mumbai', 'delhi', 'kochi']"
   ]
  },
  {
   "cell_type": "code",
   "execution_count": 30,
   "metadata": {},
   "outputs": [
    {
     "name": "stdout",
     "output_type": "stream",
     "text": [
      "mumbai\n",
      "kochi\n"
     ]
    }
   ],
   "source": [
    "for one in cities:\n",
    "    for two in cities2:\n",
    "        if one == two:\n",
    "            print(one)"
   ]
  },
  {
   "cell_type": "code",
   "execution_count": 31,
   "metadata": {},
   "outputs": [],
   "source": [
    "list_common =[]"
   ]
  },
  {
   "cell_type": "code",
   "execution_count": 32,
   "metadata": {},
   "outputs": [],
   "source": [
    "for one in cities:\n",
    "    for two in cities2:\n",
    "        if one == two:\n",
    "            list_common.append(one)"
   ]
  },
  {
   "cell_type": "code",
   "execution_count": 33,
   "metadata": {},
   "outputs": [
    {
     "name": "stdout",
     "output_type": "stream",
     "text": [
      "['mumbai', 'kochi']\n"
     ]
    }
   ],
   "source": [
    "print(list_common)"
   ]
  },
  {
   "cell_type": "code",
   "execution_count": 34,
   "metadata": {},
   "outputs": [
    {
     "name": "stdout",
     "output_type": "stream",
     "text": [
      "None ['e']\n",
      "None ['e', 'a']\n",
      "None ['e', 'a', 'r']\n",
      "None ['e', 'a', 'r', 't']\n",
      "None ['e', 'a', 'r', 't', 'h']\n"
     ]
    }
   ],
   "source": [
    "list1=[] \n",
    "strb=\"earth\"\n",
    " \n",
    "for c in strb:\n",
    "    print(list1.append(c), list1)"
   ]
  },
  {
   "cell_type": "code",
   "execution_count": 36,
   "metadata": {},
   "outputs": [
    {
     "name": "stdout",
     "output_type": "stream",
     "text": [
      "i = 0\n",
      "i = 1\n",
      "i = 2\n",
      "i = 3\n"
     ]
    }
   ],
   "source": [
    "for i in range(4):\n",
    "    print(\"i =\",i)"
   ]
  },
  {
   "cell_type": "code",
   "execution_count": 37,
   "metadata": {},
   "outputs": [
    {
     "name": "stdout",
     "output_type": "stream",
     "text": [
      "i = 4\n",
      "i = 5\n",
      "i = 6\n",
      "i = 7\n",
      "i = 8\n"
     ]
    }
   ],
   "source": [
    "for i in range(4, 9):        #upper range not included\n",
    "    print(\"i =\",i)"
   ]
  },
  {
   "cell_type": "code",
   "execution_count": 38,
   "metadata": {},
   "outputs": [
    {
     "name": "stdout",
     "output_type": "stream",
     "text": [
      "i = 0\n",
      "i = 3\n",
      "i = 6\n",
      "i = 9\n",
      "i = 12\n"
     ]
    }
   ],
   "source": [
    "for i in range(0, 14, 3):     #0,1,2,3,4,5,6,7,8,9,10,11,12,13\n",
    "    print(\"i =\", i)"
   ]
  },
  {
   "cell_type": "code",
   "execution_count": 39,
   "metadata": {},
   "outputs": [
    {
     "name": "stdout",
     "output_type": "stream",
     "text": [
      "i = 2\n",
      "i = 4\n",
      "i = 6\n",
      "i = 8\n",
      "i = 10\n",
      "i = 12\n"
     ]
    }
   ],
   "source": [
    "for i in range(2, 14, 2):     #0,1,2,3,4,5,6,7,8,9,10,11,12,13\n",
    "    print(\"i =\", i)"
   ]
  },
  {
   "cell_type": "code",
   "execution_count": 40,
   "metadata": {},
   "outputs": [],
   "source": [
    "cities = ['bengaluru', 'hyderabad', 'mumbai', 'chennai', 'kochi']"
   ]
  },
  {
   "cell_type": "code",
   "execution_count": 41,
   "metadata": {},
   "outputs": [
    {
     "name": "stdout",
     "output_type": "stream",
     "text": [
      "i = 0 and cities[i] = bengaluru\n",
      "i = 1 and cities[i] = hyderabad\n",
      "i = 2 and cities[i] = mumbai\n",
      "i = 3 and cities[i] = chennai\n",
      "i = 4 and cities[i] = kochi\n"
     ]
    }
   ],
   "source": [
    "for i in range(len(cities)):\n",
    "    print(\"i =\", i, \"and cities[i] =\", cities[i])"
   ]
  },
  {
   "cell_type": "code",
   "execution_count": 43,
   "metadata": {},
   "outputs": [
    {
     "name": "stdout",
     "output_type": "stream",
     "text": [
      "i =  0  j =  0\n",
      "i =  0  j =  1\n",
      "i =  0  j =  2\n",
      "i =  1  j =  0\n",
      "i =  1  j =  1\n",
      "i =  1  j =  2\n",
      "i =  2  j =  0\n",
      "i =  2  j =  1\n",
      "i =  2  j =  2\n"
     ]
    }
   ],
   "source": [
    "for i in range(3):\n",
    "    for j in range(3):\n",
    "        print(\"i = \", i, \" j = \", j)"
   ]
  },
  {
   "cell_type": "code",
   "execution_count": 44,
   "metadata": {},
   "outputs": [
    {
     "name": "stdout",
     "output_type": "stream",
     "text": [
      "tea break\n",
      "no tea break\n",
      "tea break\n",
      "no tea break\n",
      "no tea break\n",
      "tea break\n"
     ]
    }
   ],
   "source": [
    "for i in range(3):\n",
    "    for j in range(3):\n",
    "        if i==j:\n",
    "            print(\"tea break\")\n",
    "            break\n",
    "        else:\n",
    "            print(\"no tea break\")"
   ]
  },
  {
   "cell_type": "code",
   "execution_count": 45,
   "metadata": {},
   "outputs": [
    {
     "data": {
      "text/plain": [
       "'for i in range(3):\\n    for j in range(3):\\n        if i==j:\\n            print(\"tea break\")\\n            continue\\n        else:\\n            print(\"no tea break\")\\n        print(\"coffee break\")\\n    print(\"coffee break\")'"
      ]
     },
     "execution_count": 45,
     "metadata": {},
     "output_type": "execute_result"
    }
   ],
   "source": [
    "\"\"\"for i in range(3):\n",
    "    for j in range(3):\n",
    "        if i==j:\n",
    "            print(\"tea break\")\n",
    "            continue\n",
    "        else:\n",
    "            print(\"no tea break\")\n",
    "        print(\"coffee break\")\n",
    "    print(\"coffee break\")\"\"\""
   ]
  },
  {
   "cell_type": "code",
   "execution_count": 46,
   "metadata": {},
   "outputs": [],
   "source": [
    "#   enumerate()"
   ]
  },
  {
   "cell_type": "code",
   "execution_count": 47,
   "metadata": {},
   "outputs": [],
   "source": [
    "pass    #does nothing"
   ]
  },
  {
   "cell_type": "code",
   "execution_count": 48,
   "metadata": {},
   "outputs": [],
   "source": [
    "if varx > vary:\n",
    "    print(\"x is great\")\n",
    "else:\n",
    "    pass"
   ]
  },
  {
   "cell_type": "code",
   "execution_count": 50,
   "metadata": {},
   "outputs": [
    {
     "ename": "SyntaxError",
     "evalue": "unexpected EOF while parsing (<ipython-input-50-1fb058e3fdfa>, line 4)",
     "output_type": "error",
     "traceback": [
      "\u001b[0;36m  File \u001b[0;32m\"<ipython-input-50-1fb058e3fdfa>\"\u001b[0;36m, line \u001b[0;32m4\u001b[0m\n\u001b[0;31m    #  comments\u001b[0m\n\u001b[0m               ^\u001b[0m\n\u001b[0;31mSyntaxError\u001b[0m\u001b[0;31m:\u001b[0m unexpected EOF while parsing\n"
     ]
    }
   ],
   "source": [
    "if varx > vary:\n",
    "    print(\"x is great\")\n",
    "else:\n",
    "    #  comments"
   ]
  },
  {
   "cell_type": "code",
   "execution_count": 54,
   "metadata": {},
   "outputs": [],
   "source": [
    "cities = ['bengaluru', 'hyderabad', 'mumbai', 'chennai', 'kochi']\n",
    "cities2 = ['ahemdabad', 'kolkota', 'mumbai', 'delhi', 'kochi']\n",
    "cities3 = ['jaipur', 'pune', 'indore', 'agartala', 'patna']"
   ]
  },
  {
   "cell_type": "code",
   "execution_count": 56,
   "metadata": {},
   "outputs": [],
   "source": [
    "for one in cities:\n",
    "    if one in cities3:\n",
    "        print(one)"
   ]
  },
  {
   "cell_type": "code",
   "execution_count": 53,
   "metadata": {},
   "outputs": [
    {
     "data": {
      "text/plain": [
       "True"
      ]
     },
     "execution_count": 53,
     "metadata": {},
     "output_type": "execute_result"
    }
   ],
   "source": [
    "'h' in 'hello'"
   ]
  },
  {
   "cell_type": "code",
   "execution_count": 57,
   "metadata": {},
   "outputs": [
    {
     "name": "stdout",
     "output_type": "stream",
     "text": [
      "no output\n",
      "no output\n",
      "no output\n",
      "no output\n",
      "no output\n"
     ]
    }
   ],
   "source": [
    "for one in cities:\n",
    "    if one in cities3:\n",
    "        print(one)\n",
    "    else:\n",
    "        print(\"no output\")"
   ]
  },
  {
   "cell_type": "code",
   "execution_count": 59,
   "metadata": {},
   "outputs": [],
   "source": [
    "city = \"mumbai\"#\"srinagar\""
   ]
  },
  {
   "cell_type": "code",
   "execution_count": 60,
   "metadata": {},
   "outputs": [
    {
     "name": "stdout",
     "output_type": "stream",
     "text": [
      "found\n"
     ]
    }
   ],
   "source": [
    "for one in cities:\n",
    "    if one == city:\n",
    "        print(\"found\")\n",
    "        break"
   ]
  },
  {
   "cell_type": "code",
   "execution_count": 62,
   "metadata": {},
   "outputs": [
    {
     "name": "stdout",
     "output_type": "stream",
     "text": [
      "not found\n",
      "not found\n",
      "not found\n",
      "not found\n",
      "not found\n"
     ]
    }
   ],
   "source": [
    "city = \"srinagar\"\n",
    "for one in cities:\n",
    "    if one == city:\n",
    "        print(\"found\")\n",
    "        break\n",
    "    else:\n",
    "        print(\"not found\")"
   ]
  },
  {
   "cell_type": "code",
   "execution_count": 63,
   "metadata": {},
   "outputs": [
    {
     "name": "stdout",
     "output_type": "stream",
     "text": [
      "not found\n",
      "not found\n",
      "found\n"
     ]
    }
   ],
   "source": [
    "city = \"mumbai\"\n",
    "for one in cities:\n",
    "    if one == city:\n",
    "        print(\"found\")\n",
    "        break\n",
    "    else:\n",
    "        print(\"not found\")"
   ]
  },
  {
   "cell_type": "code",
   "execution_count": 64,
   "metadata": {},
   "outputs": [
    {
     "name": "stdout",
     "output_type": "stream",
     "text": [
      "found\n"
     ]
    }
   ],
   "source": [
    "#  else with for\n",
    "city = \"mumbai\"\n",
    "for one in cities:\n",
    "    if one == city:\n",
    "        print(\"found\")\n",
    "        break\n",
    "else:\n",
    "    print(\"not found\")"
   ]
  },
  {
   "cell_type": "code",
   "execution_count": 65,
   "metadata": {},
   "outputs": [
    {
     "name": "stdout",
     "output_type": "stream",
     "text": [
      "not found\n"
     ]
    }
   ],
   "source": [
    "#  else with for\n",
    "city = \"srinagar\"\n",
    "for one in cities:\n",
    "    if one == city:\n",
    "        print(\"found\")\n",
    "        break\n",
    "else:\n",
    "    print(\"not found\")"
   ]
  },
  {
   "cell_type": "code",
   "execution_count": 66,
   "metadata": {},
   "outputs": [],
   "source": [
    "#    continue\n",
    "#    enumerate\n",
    "#    for-else with multiple list (exercise)\n",
    "#    while-else"
   ]
  },
  {
   "cell_type": "code",
   "execution_count": 69,
   "metadata": {},
   "outputs": [
    {
     "name": "stdout",
     "output_type": "stream",
     "text": [
      "found\n",
      "not found\n"
     ]
    }
   ],
   "source": [
    "city = \"mumbai\"\n",
    "for one in cities:\n",
    "    if one == city:\n",
    "        print(\"found\")\n",
    "else:\n",
    "    print(\"not found\")"
   ]
  },
  {
   "cell_type": "code",
   "execution_count": 70,
   "metadata": {},
   "outputs": [
    {
     "name": "stdout",
     "output_type": "stream",
     "text": [
      "not found\n",
      "not found\n",
      "found\n",
      "not found\n",
      "not found\n"
     ]
    }
   ],
   "source": [
    "city = \"mumbai\"\n",
    "for one in cities:\n",
    "    if one == city:\n",
    "        print(\"found\")\n",
    "    else:\n",
    "        print(\"not found\")"
   ]
  },
  {
   "cell_type": "code",
   "execution_count": 71,
   "metadata": {},
   "outputs": [
    {
     "name": "stdout",
     "output_type": "stream",
     "text": [
      "h\n",
      "e\n",
      "l\n",
      "l\n",
      "o\n",
      "-----\n"
     ]
    }
   ],
   "source": [
    "for h in \"hello\":\n",
    "    print(h)\n",
    "print(\"-----\")"
   ]
  },
  {
   "cell_type": "code",
   "execution_count": 72,
   "metadata": {},
   "outputs": [],
   "source": [
    "seta = {'amitabh', 'rajni', 'ntr', 'dada kondke', 'uttam', 'mohanlal'}"
   ]
  },
  {
   "cell_type": "code",
   "execution_count": 73,
   "metadata": {},
   "outputs": [
    {
     "name": "stdout",
     "output_type": "stream",
     "text": [
      "amitabh\n",
      "rajni\n",
      "dada kondke\n",
      "uttam\n",
      "ntr\n",
      "mohanlal\n"
     ]
    }
   ],
   "source": [
    "for val in seta:\n",
    "    print(val)"
   ]
  },
  {
   "cell_type": "code",
   "execution_count": 74,
   "metadata": {},
   "outputs": [
    {
     "name": "stdout",
     "output_type": "stream",
     "text": [
      "{'amitabh', 'rajni', 'dada kondke', 'uttam', 'ntr', 'mohanlal'}\n"
     ]
    }
   ],
   "source": [
    "print(seta)"
   ]
  },
  {
   "cell_type": "code",
   "execution_count": 75,
   "metadata": {},
   "outputs": [],
   "source": [
    "dicta = {'US':'washington', 'UK':'london', 'australia':'canberra', 'japan':'tokyo'}"
   ]
  },
  {
   "cell_type": "code",
   "execution_count": 76,
   "metadata": {},
   "outputs": [
    {
     "name": "stdout",
     "output_type": "stream",
     "text": [
      "US\n",
      "UK\n",
      "australia\n",
      "japan\n"
     ]
    }
   ],
   "source": [
    "for k in dicta:\n",
    "    print(k)"
   ]
  },
  {
   "cell_type": "code",
   "execution_count": 78,
   "metadata": {},
   "outputs": [
    {
     "name": "stdout",
     "output_type": "stream",
     "text": [
      "US \t\t washington\n",
      "UK \t\t london\n",
      "australia \t\t canberra\n",
      "japan \t\t tokyo\n"
     ]
    }
   ],
   "source": [
    "for k in dicta:\n",
    "    print(k, '\\t\\t', dicta[k])"
   ]
  },
  {
   "cell_type": "code",
   "execution_count": 79,
   "metadata": {},
   "outputs": [
    {
     "name": "stdout",
     "output_type": "stream",
     "text": [
      "dict_keys(['US', 'UK', 'australia', 'japan'])\n"
     ]
    }
   ],
   "source": [
    "print(dicta.keys())"
   ]
  },
  {
   "cell_type": "code",
   "execution_count": 80,
   "metadata": {},
   "outputs": [
    {
     "name": "stdout",
     "output_type": "stream",
     "text": [
      "dict_values(['washington', 'london', 'canberra', 'tokyo'])\n"
     ]
    }
   ],
   "source": [
    "print(dicta.values())"
   ]
  },
  {
   "cell_type": "code",
   "execution_count": 81,
   "metadata": {},
   "outputs": [],
   "source": [
    "list_keys = list(dicta.keys())"
   ]
  },
  {
   "cell_type": "code",
   "execution_count": 82,
   "metadata": {},
   "outputs": [
    {
     "name": "stdout",
     "output_type": "stream",
     "text": [
      "['US', 'UK', 'australia', 'japan']\n"
     ]
    }
   ],
   "source": [
    "print(list_keys)"
   ]
  },
  {
   "cell_type": "code",
   "execution_count": 83,
   "metadata": {},
   "outputs": [
    {
     "name": "stdout",
     "output_type": "stream",
     "text": [
      "dict_items([('US', 'washington'), ('UK', 'london'), ('australia', 'canberra'), ('japan', 'tokyo')])\n"
     ]
    }
   ],
   "source": [
    "print(dicta.items())"
   ]
  },
  {
   "cell_type": "code",
   "execution_count": 84,
   "metadata": {},
   "outputs": [
    {
     "name": "stdout",
     "output_type": "stream",
     "text": [
      "US\n",
      "washington\n",
      "-----\n",
      "UK\n",
      "london\n",
      "-----\n",
      "australia\n",
      "canberra\n",
      "-----\n",
      "japan\n",
      "tokyo\n",
      "-----\n"
     ]
    }
   ],
   "source": [
    "for k, v in dicta.items():\n",
    "    print(k)\n",
    "    print(v)\n",
    "    print(\"-----\")"
   ]
  },
  {
   "cell_type": "code",
   "execution_count": null,
   "metadata": {},
   "outputs": [],
   "source": []
  }
 ],
 "metadata": {
  "kernelspec": {
   "display_name": "Python 3",
   "language": "python",
   "name": "python3"
  },
  "language_info": {
   "codemirror_mode": {
    "name": "ipython",
    "version": 3
   },
   "file_extension": ".py",
   "mimetype": "text/x-python",
   "name": "python",
   "nbconvert_exporter": "python",
   "pygments_lexer": "ipython3",
   "version": "3.7.7"
  }
 },
 "nbformat": 4,
 "nbformat_minor": 4
}
